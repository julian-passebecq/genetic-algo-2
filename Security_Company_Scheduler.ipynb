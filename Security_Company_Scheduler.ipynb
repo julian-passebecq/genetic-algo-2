{
 "cells": [
  {
   "cell_type": "markdown",
   "id": "8f5bebb0",
   "metadata": {},
   "source": [
    "# Security Company Scheduler V6\n",
    "\n",
    "This notebook implements a scheduling system for a security company using genetic algorithms."
   ]
  },
  {
   "cell_type": "code",
   "execution_count": 1,
   "id": "a641b4ed",
   "metadata": {},
   "outputs": [],
   "source": [
    "import os\n",
    "import sys\n",
    "sys.path.append(os.getcwd())\n",
    "\n",
    "import datetime\n",
    "import pandas as pd\n",
    "import plotly.express as px\n",
    "from ipywidgets import interact, interactive, fixed, interact_manual\n",
    "import ipywidgets as widgets\n",
    "\n",
    "from constants import AGENTS, APPOINTMENT_TYPES\n",
    "from models import Agent, Meeting\n",
    "from meeting_generator import generate_meetings\n",
    "from genetic_algorithm import run_scheduling_algorithm\n",
    "from visualization import create_schedule_dataframe, plot_schedule, plot_schedule_statistics, analyze_schedule"
   ]
  },
  {
   "cell_type": "markdown",
   "id": "7502aeef",
   "metadata": {},
   "source": [
    "## Set Parameters"
   ]
  },
  {
   "cell_type": "code",
   "execution_count": 2,
   "id": "ff8925ab",
   "metadata": {},
   "outputs": [
    {
     "data": {
      "application/vnd.jupyter.widget-view+json": {
       "model_id": "ef5fd7d20bd240afa0849e70b1095289",
       "version_major": 2,
       "version_minor": 0
      },
      "text/plain": [
       "interactive(children=(IntSlider(value=5, description='num_agents', max=10, min=1), IntSlider(value=7, descript…"
      ]
     },
     "metadata": {},
     "output_type": "display_data"
    }
   ],
   "source": [
    "@interact\n",
    "def set_parameters(num_agents=widgets.IntSlider(min=1, max=10, step=1, value=5),\n",
    "                   num_days=widgets.IntSlider(min=1, max=14, step=1, value=7),\n",
    "                   num_clients=widgets.IntSlider(min=1, max=20, step=1, value=5),\n",
    "                   population_size=widgets.IntSlider(min=10, max=200, step=10, value=50),\n",
    "                   num_generations=widgets.IntSlider(min=10, max=500, step=10, value=100)):\n",
    "    global PARAMS\n",
    "    PARAMS = {\n",
    "        'num_agents': num_agents,\n",
    "        'num_days': num_days,\n",
    "        'num_clients': num_clients,\n",
    "        'population_size': population_size,\n",
    "        'num_generations': num_generations\n",
    "    }\n",
    "    print(\"Parameters set successfully.\")"
   ]
  },
  {
   "cell_type": "markdown",
   "id": "4d3fc388",
   "metadata": {},
   "source": [
    "## Generate Meetings"
   ]
  },
  {
   "cell_type": "code",
   "execution_count": 3,
   "id": "e5c8af72",
   "metadata": {},
   "outputs": [
    {
     "data": {
      "application/vnd.jupyter.widget-view+json": {
       "model_id": "6b85f6ab39204d20aceb1951a7869251",
       "version_major": 2,
       "version_minor": 0
      },
      "text/plain": [
       "interactive(children=(Button(description='Run Interact', style=ButtonStyle()), Output()), _dom_classes=('widge…"
      ]
     },
     "metadata": {},
     "output_type": "display_data"
    },
    {
     "data": {
      "application/vnd.plotly.v1+json": {
       "config": {
        "plotlyServerURL": "https://plot.ly"
       },
       "data": [
        {
         "alignmentgroup": "True",
         "base": [
          "2024-06-27T09:00:00",
          "2024-06-27T09:00:00",
          "2024-06-27T08:00:00",
          "2024-06-27T16:00:00",
          "2024-06-27T08:00:00",
          "2024-06-27T14:00:00",
          "2024-06-27T09:00:00",
          "2024-06-27T11:00:00",
          "2024-06-27T10:00:00",
          "2024-06-27T17:00:00",
          "2024-06-27T09:00:00",
          "2024-06-27T17:00:00",
          "2024-06-27T17:00:00",
          "2024-06-27T11:00:00",
          "2024-06-27T18:00:00",
          "2024-06-28T08:00:00",
          "2024-06-28T16:00:00",
          "2024-06-28T16:00:00",
          "2024-06-28T12:00:00",
          "2024-06-28T17:00:00",
          "2024-06-28T13:00:00",
          "2024-06-28T14:00:00",
          "2024-06-28T19:00:00",
          "2024-06-28T08:00:00",
          "2024-06-28T17:00:00",
          "2024-06-28T14:00:00",
          "2024-06-28T13:00:00",
          "2024-06-28T18:00:00",
          "2024-06-28T10:00:00",
          "2024-06-28T08:00:00",
          "2024-06-29T19:00:00",
          "2024-06-29T11:00:00",
          "2024-06-29T16:00:00",
          "2024-06-29T09:00:00",
          "2024-06-29T15:00:00",
          "2024-06-29T14:00:00",
          "2024-06-29T18:00:00",
          "2024-06-29T16:00:00",
          "2024-06-29T11:00:00",
          "2024-06-29T15:00:00",
          "2024-06-29T14:00:00",
          "2024-06-29T10:00:00",
          "2024-06-29T10:00:00",
          "2024-06-29T13:00:00",
          "2024-06-29T10:00:00",
          "2024-06-30T11:00:00",
          "2024-06-30T14:00:00",
          "2024-06-30T09:00:00",
          "2024-06-30T18:00:00",
          "2024-06-30T15:00:00",
          "2024-06-30T11:00:00",
          "2024-06-30T10:00:00",
          "2024-06-30T10:00:00",
          "2024-06-30T11:00:00",
          "2024-06-30T14:00:00",
          "2024-06-30T11:00:00",
          "2024-06-30T17:00:00",
          "2024-06-30T15:00:00",
          "2024-06-30T09:00:00",
          "2024-06-30T14:00:00",
          "2024-07-01T10:00:00",
          "2024-07-01T08:00:00",
          "2024-07-01T16:00:00",
          "2024-07-01T11:00:00",
          "2024-07-01T09:00:00",
          "2024-07-01T14:00:00",
          "2024-07-01T15:00:00",
          "2024-07-01T13:00:00",
          "2024-07-01T14:00:00",
          "2024-07-01T17:00:00",
          "2024-07-01T13:00:00",
          "2024-07-01T14:00:00",
          "2024-07-01T09:00:00",
          "2024-07-01T18:00:00",
          "2024-07-01T13:00:00",
          "2024-07-02T15:00:00",
          "2024-07-02T19:00:00",
          "2024-07-02T15:00:00",
          "2024-07-02T18:00:00",
          "2024-07-02T12:00:00",
          "2024-07-02T10:00:00",
          "2024-07-02T17:00:00",
          "2024-07-02T19:00:00",
          "2024-07-02T12:00:00",
          "2024-07-02T14:00:00",
          "2024-07-02T18:00:00",
          "2024-07-02T18:00:00",
          "2024-07-02T18:00:00",
          "2024-07-02T11:00:00",
          "2024-07-02T18:00:00",
          "2024-07-03T08:00:00",
          "2024-07-03T19:00:00",
          "2024-07-03T11:00:00",
          "2024-07-03T09:00:00",
          "2024-07-03T16:00:00",
          "2024-07-03T09:00:00",
          "2024-07-03T18:00:00",
          "2024-07-03T11:00:00",
          "2024-07-03T14:00:00",
          "2024-07-03T18:00:00",
          "2024-07-03T17:00:00",
          "2024-07-03T09:00:00",
          "2024-07-03T12:00:00",
          "2024-07-03T13:00:00",
          "2024-07-03T08:00:00"
         ],
         "hovertemplate": "Is Night=False<br>Start=%{base}<br>End=%{x}<br>Type=%{y}<extra></extra>",
         "legendgroup": "False",
         "marker": {
          "color": "#636efa",
          "pattern": {
           "shape": ""
          }
         },
         "name": "False",
         "offsetgroup": "False",
         "orientation": "h",
         "showlegend": true,
         "textposition": "auto",
         "type": "bar",
         "x": [
          7200000,
          3600000,
          7200000,
          7200000,
          3600000,
          3600000,
          7200000,
          7200000,
          7200000,
          10800000,
          7200000,
          3600000,
          7200000,
          7200000,
          10800000,
          10800000,
          7200000,
          10800000,
          10800000,
          3600000,
          7200000,
          3600000,
          3600000,
          7200000,
          3600000,
          7200000,
          3600000,
          7200000,
          10800000,
          10800000,
          7200000,
          7200000,
          7200000,
          3600000,
          7200000,
          3600000,
          7200000,
          10800000,
          7200000,
          7200000,
          10800000,
          3600000,
          3600000,
          7200000,
          3600000,
          7200000,
          3600000,
          3600000,
          10800000,
          3600000,
          3600000,
          10800000,
          7200000,
          7200000,
          10800000,
          3600000,
          3600000,
          3600000,
          10800000,
          7200000,
          10800000,
          3600000,
          7200000,
          3600000,
          3600000,
          7200000,
          7200000,
          10800000,
          3600000,
          10800000,
          3600000,
          3600000,
          10800000,
          3600000,
          3600000,
          3600000,
          10800000,
          3600000,
          7200000,
          3600000,
          7200000,
          3600000,
          7200000,
          10800000,
          3600000,
          10800000,
          3600000,
          3600000,
          10800000,
          10800000,
          3600000,
          10800000,
          3600000,
          3600000,
          10800000,
          10800000,
          3600000,
          3600000,
          10800000,
          10800000,
          10800000,
          10800000,
          7200000,
          10800000,
          10800000
         ],
         "xaxis": "x",
         "y": [
          "Monitoring",
          "Maintenance",
          "Monitoring",
          "Maintenance",
          "Maintenance",
          "Fire",
          "Monitoring",
          "Monitoring",
          "Maintenance",
          "Monitoring",
          "Fire",
          "Monitoring",
          "Fire",
          "Maintenance",
          "Fire",
          "Monitoring",
          "Monitoring",
          "Monitoring",
          "Maintenance",
          "Fire",
          "Monitoring",
          "Fire",
          "Monitoring",
          "Maintenance",
          "Maintenance",
          "Monitoring",
          "Monitoring",
          "Monitoring",
          "Fire",
          "Monitoring",
          "Fire",
          "Maintenance",
          "Maintenance",
          "Maintenance",
          "Monitoring",
          "Fire",
          "Monitoring",
          "Monitoring",
          "Maintenance",
          "Maintenance",
          "Fire",
          "Fire",
          "Monitoring",
          "Fire",
          "Maintenance",
          "Fire",
          "Maintenance",
          "Fire",
          "Fire",
          "Monitoring",
          "Maintenance",
          "Fire",
          "Fire",
          "Fire",
          "Fire",
          "Fire",
          "Maintenance",
          "Maintenance",
          "Monitoring",
          "Monitoring",
          "Maintenance",
          "Fire",
          "Maintenance",
          "Maintenance",
          "Fire",
          "Fire",
          "Monitoring",
          "Fire",
          "Fire",
          "Fire",
          "Monitoring",
          "Monitoring",
          "Monitoring",
          "Monitoring",
          "Monitoring",
          "Monitoring",
          "Maintenance",
          "Fire",
          "Monitoring",
          "Fire",
          "Maintenance",
          "Fire",
          "Fire",
          "Monitoring",
          "Fire",
          "Maintenance",
          "Maintenance",
          "Maintenance",
          "Monitoring",
          "Monitoring",
          "Fire",
          "Maintenance",
          "Monitoring",
          "Maintenance",
          "Fire",
          "Monitoring",
          "Fire",
          "Monitoring",
          "Monitoring",
          "Fire",
          "Monitoring",
          "Maintenance",
          "Monitoring",
          "Fire",
          "Monitoring"
         ],
         "yaxis": "y"
        },
        {
         "alignmentgroup": "True",
         "base": [
          "2024-06-27T22:00:00",
          "2024-06-28T23:00:00",
          "2024-06-29T21:00:00",
          "2024-06-30T23:00:00",
          "2024-07-01T23:00:00",
          "2024-07-02T23:00:00",
          "2024-07-03T22:00:00"
         ],
         "hovertemplate": "Is Night=True<br>Start=%{base}<br>End=%{x}<br>Type=%{y}<extra></extra>",
         "legendgroup": "True",
         "marker": {
          "color": "#EF553B",
          "pattern": {
           "shape": ""
          }
         },
         "name": "True",
         "offsetgroup": "True",
         "orientation": "h",
         "showlegend": true,
         "textposition": "auto",
         "type": "bar",
         "x": [
          18000000,
          14400000,
          21600000,
          14400000,
          7200000,
          14400000,
          18000000
         ],
         "xaxis": "x",
         "y": [
          "Security",
          "Security",
          "Security",
          "Security",
          "Security",
          "Security",
          "Security"
         ],
         "yaxis": "y"
        }
       ],
       "layout": {
        "barmode": "overlay",
        "legend": {
         "title": {
          "text": "Is Night"
         },
         "tracegroupgap": 0
        },
        "shapes": [
         {
          "line": {
           "color": "gray",
           "dash": "dash"
          },
          "type": "line",
          "x0": "2024-06-27T05:00:00",
          "x1": "2024-06-27T05:00:00",
          "xref": "x",
          "y0": 0,
          "y1": 1,
          "yref": "y domain"
         },
         {
          "line": {
           "color": "gray",
           "dash": "dash"
          },
          "type": "line",
          "x0": "2024-06-28T05:00:00",
          "x1": "2024-06-28T05:00:00",
          "xref": "x",
          "y0": 0,
          "y1": 1,
          "yref": "y domain"
         },
         {
          "line": {
           "color": "gray",
           "dash": "dash"
          },
          "type": "line",
          "x0": "2024-06-29T05:00:00",
          "x1": "2024-06-29T05:00:00",
          "xref": "x",
          "y0": 0,
          "y1": 1,
          "yref": "y domain"
         },
         {
          "line": {
           "color": "gray",
           "dash": "dash"
          },
          "type": "line",
          "x0": "2024-06-30T05:00:00",
          "x1": "2024-06-30T05:00:00",
          "xref": "x",
          "y0": 0,
          "y1": 1,
          "yref": "y domain"
         },
         {
          "line": {
           "color": "gray",
           "dash": "dash"
          },
          "type": "line",
          "x0": "2024-07-01T05:00:00",
          "x1": "2024-07-01T05:00:00",
          "xref": "x",
          "y0": 0,
          "y1": 1,
          "yref": "y domain"
         },
         {
          "line": {
           "color": "gray",
           "dash": "dash"
          },
          "type": "line",
          "x0": "2024-07-02T05:00:00",
          "x1": "2024-07-02T05:00:00",
          "xref": "x",
          "y0": 0,
          "y1": 1,
          "yref": "y domain"
         },
         {
          "line": {
           "color": "gray",
           "dash": "dash"
          },
          "type": "line",
          "x0": "2024-07-03T05:00:00",
          "x1": "2024-07-03T05:00:00",
          "xref": "x",
          "y0": 0,
          "y1": 1,
          "yref": "y domain"
         }
        ],
        "template": {
         "data": {
          "bar": [
           {
            "error_x": {
             "color": "#2a3f5f"
            },
            "error_y": {
             "color": "#2a3f5f"
            },
            "marker": {
             "line": {
              "color": "#E5ECF6",
              "width": 0.5
             },
             "pattern": {
              "fillmode": "overlay",
              "size": 10,
              "solidity": 0.2
             }
            },
            "type": "bar"
           }
          ],
          "barpolar": [
           {
            "marker": {
             "line": {
              "color": "#E5ECF6",
              "width": 0.5
             },
             "pattern": {
              "fillmode": "overlay",
              "size": 10,
              "solidity": 0.2
             }
            },
            "type": "barpolar"
           }
          ],
          "carpet": [
           {
            "aaxis": {
             "endlinecolor": "#2a3f5f",
             "gridcolor": "white",
             "linecolor": "white",
             "minorgridcolor": "white",
             "startlinecolor": "#2a3f5f"
            },
            "baxis": {
             "endlinecolor": "#2a3f5f",
             "gridcolor": "white",
             "linecolor": "white",
             "minorgridcolor": "white",
             "startlinecolor": "#2a3f5f"
            },
            "type": "carpet"
           }
          ],
          "choropleth": [
           {
            "colorbar": {
             "outlinewidth": 0,
             "ticks": ""
            },
            "type": "choropleth"
           }
          ],
          "contour": [
           {
            "colorbar": {
             "outlinewidth": 0,
             "ticks": ""
            },
            "colorscale": [
             [
              0,
              "#0d0887"
             ],
             [
              0.1111111111111111,
              "#46039f"
             ],
             [
              0.2222222222222222,
              "#7201a8"
             ],
             [
              0.3333333333333333,
              "#9c179e"
             ],
             [
              0.4444444444444444,
              "#bd3786"
             ],
             [
              0.5555555555555556,
              "#d8576b"
             ],
             [
              0.6666666666666666,
              "#ed7953"
             ],
             [
              0.7777777777777778,
              "#fb9f3a"
             ],
             [
              0.8888888888888888,
              "#fdca26"
             ],
             [
              1,
              "#f0f921"
             ]
            ],
            "type": "contour"
           }
          ],
          "contourcarpet": [
           {
            "colorbar": {
             "outlinewidth": 0,
             "ticks": ""
            },
            "type": "contourcarpet"
           }
          ],
          "heatmap": [
           {
            "colorbar": {
             "outlinewidth": 0,
             "ticks": ""
            },
            "colorscale": [
             [
              0,
              "#0d0887"
             ],
             [
              0.1111111111111111,
              "#46039f"
             ],
             [
              0.2222222222222222,
              "#7201a8"
             ],
             [
              0.3333333333333333,
              "#9c179e"
             ],
             [
              0.4444444444444444,
              "#bd3786"
             ],
             [
              0.5555555555555556,
              "#d8576b"
             ],
             [
              0.6666666666666666,
              "#ed7953"
             ],
             [
              0.7777777777777778,
              "#fb9f3a"
             ],
             [
              0.8888888888888888,
              "#fdca26"
             ],
             [
              1,
              "#f0f921"
             ]
            ],
            "type": "heatmap"
           }
          ],
          "heatmapgl": [
           {
            "colorbar": {
             "outlinewidth": 0,
             "ticks": ""
            },
            "colorscale": [
             [
              0,
              "#0d0887"
             ],
             [
              0.1111111111111111,
              "#46039f"
             ],
             [
              0.2222222222222222,
              "#7201a8"
             ],
             [
              0.3333333333333333,
              "#9c179e"
             ],
             [
              0.4444444444444444,
              "#bd3786"
             ],
             [
              0.5555555555555556,
              "#d8576b"
             ],
             [
              0.6666666666666666,
              "#ed7953"
             ],
             [
              0.7777777777777778,
              "#fb9f3a"
             ],
             [
              0.8888888888888888,
              "#fdca26"
             ],
             [
              1,
              "#f0f921"
             ]
            ],
            "type": "heatmapgl"
           }
          ],
          "histogram": [
           {
            "marker": {
             "pattern": {
              "fillmode": "overlay",
              "size": 10,
              "solidity": 0.2
             }
            },
            "type": "histogram"
           }
          ],
          "histogram2d": [
           {
            "colorbar": {
             "outlinewidth": 0,
             "ticks": ""
            },
            "colorscale": [
             [
              0,
              "#0d0887"
             ],
             [
              0.1111111111111111,
              "#46039f"
             ],
             [
              0.2222222222222222,
              "#7201a8"
             ],
             [
              0.3333333333333333,
              "#9c179e"
             ],
             [
              0.4444444444444444,
              "#bd3786"
             ],
             [
              0.5555555555555556,
              "#d8576b"
             ],
             [
              0.6666666666666666,
              "#ed7953"
             ],
             [
              0.7777777777777778,
              "#fb9f3a"
             ],
             [
              0.8888888888888888,
              "#fdca26"
             ],
             [
              1,
              "#f0f921"
             ]
            ],
            "type": "histogram2d"
           }
          ],
          "histogram2dcontour": [
           {
            "colorbar": {
             "outlinewidth": 0,
             "ticks": ""
            },
            "colorscale": [
             [
              0,
              "#0d0887"
             ],
             [
              0.1111111111111111,
              "#46039f"
             ],
             [
              0.2222222222222222,
              "#7201a8"
             ],
             [
              0.3333333333333333,
              "#9c179e"
             ],
             [
              0.4444444444444444,
              "#bd3786"
             ],
             [
              0.5555555555555556,
              "#d8576b"
             ],
             [
              0.6666666666666666,
              "#ed7953"
             ],
             [
              0.7777777777777778,
              "#fb9f3a"
             ],
             [
              0.8888888888888888,
              "#fdca26"
             ],
             [
              1,
              "#f0f921"
             ]
            ],
            "type": "histogram2dcontour"
           }
          ],
          "mesh3d": [
           {
            "colorbar": {
             "outlinewidth": 0,
             "ticks": ""
            },
            "type": "mesh3d"
           }
          ],
          "parcoords": [
           {
            "line": {
             "colorbar": {
              "outlinewidth": 0,
              "ticks": ""
             }
            },
            "type": "parcoords"
           }
          ],
          "pie": [
           {
            "automargin": true,
            "type": "pie"
           }
          ],
          "scatter": [
           {
            "fillpattern": {
             "fillmode": "overlay",
             "size": 10,
             "solidity": 0.2
            },
            "type": "scatter"
           }
          ],
          "scatter3d": [
           {
            "line": {
             "colorbar": {
              "outlinewidth": 0,
              "ticks": ""
             }
            },
            "marker": {
             "colorbar": {
              "outlinewidth": 0,
              "ticks": ""
             }
            },
            "type": "scatter3d"
           }
          ],
          "scattercarpet": [
           {
            "marker": {
             "colorbar": {
              "outlinewidth": 0,
              "ticks": ""
             }
            },
            "type": "scattercarpet"
           }
          ],
          "scattergeo": [
           {
            "marker": {
             "colorbar": {
              "outlinewidth": 0,
              "ticks": ""
             }
            },
            "type": "scattergeo"
           }
          ],
          "scattergl": [
           {
            "marker": {
             "colorbar": {
              "outlinewidth": 0,
              "ticks": ""
             }
            },
            "type": "scattergl"
           }
          ],
          "scattermapbox": [
           {
            "marker": {
             "colorbar": {
              "outlinewidth": 0,
              "ticks": ""
             }
            },
            "type": "scattermapbox"
           }
          ],
          "scatterpolar": [
           {
            "marker": {
             "colorbar": {
              "outlinewidth": 0,
              "ticks": ""
             }
            },
            "type": "scatterpolar"
           }
          ],
          "scatterpolargl": [
           {
            "marker": {
             "colorbar": {
              "outlinewidth": 0,
              "ticks": ""
             }
            },
            "type": "scatterpolargl"
           }
          ],
          "scatterternary": [
           {
            "marker": {
             "colorbar": {
              "outlinewidth": 0,
              "ticks": ""
             }
            },
            "type": "scatterternary"
           }
          ],
          "surface": [
           {
            "colorbar": {
             "outlinewidth": 0,
             "ticks": ""
            },
            "colorscale": [
             [
              0,
              "#0d0887"
             ],
             [
              0.1111111111111111,
              "#46039f"
             ],
             [
              0.2222222222222222,
              "#7201a8"
             ],
             [
              0.3333333333333333,
              "#9c179e"
             ],
             [
              0.4444444444444444,
              "#bd3786"
             ],
             [
              0.5555555555555556,
              "#d8576b"
             ],
             [
              0.6666666666666666,
              "#ed7953"
             ],
             [
              0.7777777777777778,
              "#fb9f3a"
             ],
             [
              0.8888888888888888,
              "#fdca26"
             ],
             [
              1,
              "#f0f921"
             ]
            ],
            "type": "surface"
           }
          ],
          "table": [
           {
            "cells": {
             "fill": {
              "color": "#EBF0F8"
             },
             "line": {
              "color": "white"
             }
            },
            "header": {
             "fill": {
              "color": "#C8D4E3"
             },
             "line": {
              "color": "white"
             }
            },
            "type": "table"
           }
          ]
         },
         "layout": {
          "annotationdefaults": {
           "arrowcolor": "#2a3f5f",
           "arrowhead": 0,
           "arrowwidth": 1
          },
          "autotypenumbers": "strict",
          "coloraxis": {
           "colorbar": {
            "outlinewidth": 0,
            "ticks": ""
           }
          },
          "colorscale": {
           "diverging": [
            [
             0,
             "#8e0152"
            ],
            [
             0.1,
             "#c51b7d"
            ],
            [
             0.2,
             "#de77ae"
            ],
            [
             0.3,
             "#f1b6da"
            ],
            [
             0.4,
             "#fde0ef"
            ],
            [
             0.5,
             "#f7f7f7"
            ],
            [
             0.6,
             "#e6f5d0"
            ],
            [
             0.7,
             "#b8e186"
            ],
            [
             0.8,
             "#7fbc41"
            ],
            [
             0.9,
             "#4d9221"
            ],
            [
             1,
             "#276419"
            ]
           ],
           "sequential": [
            [
             0,
             "#0d0887"
            ],
            [
             0.1111111111111111,
             "#46039f"
            ],
            [
             0.2222222222222222,
             "#7201a8"
            ],
            [
             0.3333333333333333,
             "#9c179e"
            ],
            [
             0.4444444444444444,
             "#bd3786"
            ],
            [
             0.5555555555555556,
             "#d8576b"
            ],
            [
             0.6666666666666666,
             "#ed7953"
            ],
            [
             0.7777777777777778,
             "#fb9f3a"
            ],
            [
             0.8888888888888888,
             "#fdca26"
            ],
            [
             1,
             "#f0f921"
            ]
           ],
           "sequentialminus": [
            [
             0,
             "#0d0887"
            ],
            [
             0.1111111111111111,
             "#46039f"
            ],
            [
             0.2222222222222222,
             "#7201a8"
            ],
            [
             0.3333333333333333,
             "#9c179e"
            ],
            [
             0.4444444444444444,
             "#bd3786"
            ],
            [
             0.5555555555555556,
             "#d8576b"
            ],
            [
             0.6666666666666666,
             "#ed7953"
            ],
            [
             0.7777777777777778,
             "#fb9f3a"
            ],
            [
             0.8888888888888888,
             "#fdca26"
            ],
            [
             1,
             "#f0f921"
            ]
           ]
          },
          "colorway": [
           "#636efa",
           "#EF553B",
           "#00cc96",
           "#ab63fa",
           "#FFA15A",
           "#19d3f3",
           "#FF6692",
           "#B6E880",
           "#FF97FF",
           "#FECB52"
          ],
          "font": {
           "color": "#2a3f5f"
          },
          "geo": {
           "bgcolor": "white",
           "lakecolor": "white",
           "landcolor": "#E5ECF6",
           "showlakes": true,
           "showland": true,
           "subunitcolor": "white"
          },
          "hoverlabel": {
           "align": "left"
          },
          "hovermode": "closest",
          "mapbox": {
           "style": "light"
          },
          "paper_bgcolor": "white",
          "plot_bgcolor": "#E5ECF6",
          "polar": {
           "angularaxis": {
            "gridcolor": "white",
            "linecolor": "white",
            "ticks": ""
           },
           "bgcolor": "#E5ECF6",
           "radialaxis": {
            "gridcolor": "white",
            "linecolor": "white",
            "ticks": ""
           }
          },
          "scene": {
           "xaxis": {
            "backgroundcolor": "#E5ECF6",
            "gridcolor": "white",
            "gridwidth": 2,
            "linecolor": "white",
            "showbackground": true,
            "ticks": "",
            "zerolinecolor": "white"
           },
           "yaxis": {
            "backgroundcolor": "#E5ECF6",
            "gridcolor": "white",
            "gridwidth": 2,
            "linecolor": "white",
            "showbackground": true,
            "ticks": "",
            "zerolinecolor": "white"
           },
           "zaxis": {
            "backgroundcolor": "#E5ECF6",
            "gridcolor": "white",
            "gridwidth": 2,
            "linecolor": "white",
            "showbackground": true,
            "ticks": "",
            "zerolinecolor": "white"
           }
          },
          "shapedefaults": {
           "line": {
            "color": "#2a3f5f"
           }
          },
          "ternary": {
           "aaxis": {
            "gridcolor": "white",
            "linecolor": "white",
            "ticks": ""
           },
           "baxis": {
            "gridcolor": "white",
            "linecolor": "white",
            "ticks": ""
           },
           "bgcolor": "#E5ECF6",
           "caxis": {
            "gridcolor": "white",
            "linecolor": "white",
            "ticks": ""
           }
          },
          "title": {
           "x": 0.05
          },
          "xaxis": {
           "automargin": true,
           "gridcolor": "white",
           "linecolor": "white",
           "ticks": "",
           "title": {
            "standoff": 15
           },
           "zerolinecolor": "white",
           "zerolinewidth": 2
          },
          "yaxis": {
           "automargin": true,
           "gridcolor": "white",
           "linecolor": "white",
           "ticks": "",
           "title": {
            "standoff": 15
           },
           "zerolinecolor": "white",
           "zerolinewidth": 2
          }
         }
        },
        "title": {
         "text": "Generated Meetings Calendar"
        },
        "xaxis": {
         "anchor": "y",
         "domain": [
          0,
          1
         ],
         "gridcolor": "lightgray",
         "rangeslider": {
          "visible": false
         },
         "showgrid": true,
         "tickangle": 0,
         "tickfont": {
          "size": 10
         },
         "tickformat": "%Y-%m-%d",
         "type": "date"
        },
        "xaxis2": {
         "overlaying": "x",
         "showgrid": false,
         "side": "top",
         "tickformat": "%H:%M"
        },
        "yaxis": {
         "anchor": "x",
         "categoryorder": "category ascending",
         "domain": [
          0,
          1
         ],
         "title": {
          "text": "Type"
         }
        }
       }
      }
     },
     "metadata": {},
     "output_type": "display_data"
    },
    {
     "data": {
      "text/plain": [
       "<function __main__.generate_and_display_meetings()>"
      ]
     },
     "execution_count": 3,
     "metadata": {},
     "output_type": "execute_result"
    }
   ],
   "source": [
    "def generate_and_display_meetings():\n",
    "    start_date = datetime.date.today()\n",
    "    global meetings\n",
    "    meetings = generate_meetings(start_date, num_clients=PARAMS['num_clients'], days=PARAMS['num_days'])\n",
    "    \n",
    "    meetings_df = pd.DataFrame([\n",
    "        {\n",
    "            'Start': m.start,\n",
    "            'End': m.end,\n",
    "            'Type': m.required_skill,\n",
    "            'Is Night': m.is_night,\n",
    "            'Duration (hours)': (m.end - m.start).total_seconds() / 3600\n",
    "        } for m in meetings\n",
    "    ])\n",
    "    \n",
    "    print(f\"Generated {len(meetings)} meetings\")\n",
    "    display(meetings_df)\n",
    "    \n",
    "    # Create a calendar view of the meetings\n",
    "    fig = px.timeline(meetings_df, x_start=\"Start\", x_end=\"End\", y=\"Type\", color=\"Is Night\",\n",
    "                      title=\"Generated Meetings Calendar\")\n",
    "    fig.update_yaxes(categoryorder=\"category ascending\")\n",
    "    \n",
    "    # Add vertical lines for day boundaries\n",
    "    for day in pd.date_range(meetings_df['Start'].min(), meetings_df['End'].max()):\n",
    "        fig.add_vline(x=day.replace(hour=5, minute=0), line_dash=\"dash\", line_color=\"gray\")\n",
    "    \n",
    "    # Update x-axis to show date on bottom and time on top\n",
    "    fig.update_xaxes(\n",
    "        tickformat=\"%H:%M\",\n",
    "        tickangle=0,\n",
    "        tickfont=dict(size=10),\n",
    "        showgrid=True,\n",
    "        gridcolor='lightgray'\n",
    "    )\n",
    "    fig.update_layout(\n",
    "        xaxis=dict(\n",
    "            rangeslider=dict(visible=False),\n",
    "            tickformat=\"%Y-%m-%d\"\n",
    "        ),\n",
    "        xaxis2=dict(\n",
    "            overlaying=\"x\",\n",
    "            side=\"top\",\n",
    "            tickformat=\"%H:%M\",\n",
    "            showgrid=False\n",
    "        )\n",
    "    )\n",
    "    \n",
    "    fig.show()\n",
    "    \n",
    "    return meetings_df\n",
    "\n",
    "interact_manual(generate_and_display_meetings)"
   ]
  },
  {
   "cell_type": "markdown",
   "id": "b5b696e6",
   "metadata": {},
   "source": [
    "## Run the Scheduling Algorithm"
   ]
  },
  {
   "cell_type": "code",
   "execution_count": 4,
   "id": "f0708fe8",
   "metadata": {},
   "outputs": [
    {
     "data": {
      "application/vnd.jupyter.widget-view+json": {
       "model_id": "eedfb62e4d6c429490a695a581c322a9",
       "version_major": 2,
       "version_minor": 0
      },
      "text/plain": [
       "interactive(children=(Button(description='Run Interact', style=ButtonStyle()), Output()), _dom_classes=('widge…"
      ]
     },
     "metadata": {},
     "output_type": "display_data"
    },
    {
     "data": {
      "text/plain": [
       "<function __main__.run_algorithm()>"
      ]
     },
     "execution_count": 4,
     "metadata": {},
     "output_type": "execute_result"
    }
   ],
   "source": [
    "def run_algorithm():\n",
    "    # Create agent objects\n",
    "    global agents, final_schedule, schedule_df\n",
    "    agents = [Agent(f\"Agent{i+1}\", AGENTS[f\"Agent{i+1}\"]) for i in range(PARAMS['num_agents'])]\n",
    "\n",
    "    # Run the scheduling algorithm\n",
    "    final_schedule = run_scheduling_algorithm(agents, meetings, \n",
    "                                              pop_size=PARAMS['population_size'], \n",
    "                                              generations=PARAMS['num_generations'])\n",
    "\n",
    "    print(f\"Scheduled {len(final_schedule)} meetings\")\n",
    "    \n",
    "    # Create and display schedule dataframe\n",
    "    schedule_df = create_schedule_dataframe(final_schedule)\n",
    "    display(schedule_df)\n",
    "    \n",
    "    return schedule_df\n",
    "\n",
    "interact_manual(run_algorithm)"
   ]
  },
  {
   "cell_type": "markdown",
   "id": "3d3227ac",
   "metadata": {},
   "source": [
    "## Visualize the Results"
   ]
  },
  {
   "cell_type": "code",
   "execution_count": 5,
   "id": "a698a29f",
   "metadata": {},
   "outputs": [
    {
     "data": {
      "application/vnd.jupyter.widget-view+json": {
       "model_id": "42412cf67f4c402aa7e3b84a66bdb0e6",
       "version_major": 2,
       "version_minor": 0
      },
      "text/plain": [
       "interactive(children=(Button(description='Run Interact', style=ButtonStyle()), Output()), _dom_classes=('widge…"
      ]
     },
     "metadata": {},
     "output_type": "display_data"
    },
    {
     "data": {
      "application/vnd.plotly.v1+json": {
       "config": {
        "plotlyServerURL": "https://plot.ly"
       },
       "data": [
        {
         "name": "Meetings",
         "type": "bar",
         "x": [
          "Agent2",
          "Agent1",
          "Agent3",
          "Agent4",
          "Agent5"
         ],
         "xaxis": "x",
         "y": [
          33,
          24,
          24,
          17,
          14
         ],
         "yaxis": "y"
        },
        {
         "name": "Night Shifts",
         "type": "bar",
         "x": [
          "Agent1",
          "Agent2",
          "Agent4"
         ],
         "xaxis": "x2",
         "y": [
          4,
          2,
          1
         ],
         "yaxis": "y2"
        },
        {
         "name": "Working Hours",
         "type": "bar",
         "x": [
          "Agent1",
          "Agent2",
          "Agent3",
          "Agent4",
          "Agent5"
         ],
         "xaxis": "x3",
         "y": [
          2.2916666666666665,
          1.7878787878787878,
          1.8333333333333333,
          2.1176470588235294,
          2.5714285714285716
         ],
         "yaxis": "y3"
        }
       ],
       "layout": {
        "annotations": [
         {
          "font": {
           "size": 16
          },
          "showarrow": false,
          "text": "Meetings per Agent",
          "x": 0.14444444444444446,
          "xanchor": "center",
          "xref": "paper",
          "y": 1,
          "yanchor": "bottom",
          "yref": "paper"
         },
         {
          "font": {
           "size": 16
          },
          "showarrow": false,
          "text": "Night Shifts per Agent",
          "x": 0.5,
          "xanchor": "center",
          "xref": "paper",
          "y": 1,
          "yanchor": "bottom",
          "yref": "paper"
         },
         {
          "font": {
           "size": 16
          },
          "showarrow": false,
          "text": "Average Working Hours per Agent",
          "x": 0.8555555555555556,
          "xanchor": "center",
          "xref": "paper",
          "y": 1,
          "yanchor": "bottom",
          "yref": "paper"
         }
        ],
        "height": 400,
        "template": {
         "data": {
          "bar": [
           {
            "error_x": {
             "color": "#2a3f5f"
            },
            "error_y": {
             "color": "#2a3f5f"
            },
            "marker": {
             "line": {
              "color": "#E5ECF6",
              "width": 0.5
             },
             "pattern": {
              "fillmode": "overlay",
              "size": 10,
              "solidity": 0.2
             }
            },
            "type": "bar"
           }
          ],
          "barpolar": [
           {
            "marker": {
             "line": {
              "color": "#E5ECF6",
              "width": 0.5
             },
             "pattern": {
              "fillmode": "overlay",
              "size": 10,
              "solidity": 0.2
             }
            },
            "type": "barpolar"
           }
          ],
          "carpet": [
           {
            "aaxis": {
             "endlinecolor": "#2a3f5f",
             "gridcolor": "white",
             "linecolor": "white",
             "minorgridcolor": "white",
             "startlinecolor": "#2a3f5f"
            },
            "baxis": {
             "endlinecolor": "#2a3f5f",
             "gridcolor": "white",
             "linecolor": "white",
             "minorgridcolor": "white",
             "startlinecolor": "#2a3f5f"
            },
            "type": "carpet"
           }
          ],
          "choropleth": [
           {
            "colorbar": {
             "outlinewidth": 0,
             "ticks": ""
            },
            "type": "choropleth"
           }
          ],
          "contour": [
           {
            "colorbar": {
             "outlinewidth": 0,
             "ticks": ""
            },
            "colorscale": [
             [
              0,
              "#0d0887"
             ],
             [
              0.1111111111111111,
              "#46039f"
             ],
             [
              0.2222222222222222,
              "#7201a8"
             ],
             [
              0.3333333333333333,
              "#9c179e"
             ],
             [
              0.4444444444444444,
              "#bd3786"
             ],
             [
              0.5555555555555556,
              "#d8576b"
             ],
             [
              0.6666666666666666,
              "#ed7953"
             ],
             [
              0.7777777777777778,
              "#fb9f3a"
             ],
             [
              0.8888888888888888,
              "#fdca26"
             ],
             [
              1,
              "#f0f921"
             ]
            ],
            "type": "contour"
           }
          ],
          "contourcarpet": [
           {
            "colorbar": {
             "outlinewidth": 0,
             "ticks": ""
            },
            "type": "contourcarpet"
           }
          ],
          "heatmap": [
           {
            "colorbar": {
             "outlinewidth": 0,
             "ticks": ""
            },
            "colorscale": [
             [
              0,
              "#0d0887"
             ],
             [
              0.1111111111111111,
              "#46039f"
             ],
             [
              0.2222222222222222,
              "#7201a8"
             ],
             [
              0.3333333333333333,
              "#9c179e"
             ],
             [
              0.4444444444444444,
              "#bd3786"
             ],
             [
              0.5555555555555556,
              "#d8576b"
             ],
             [
              0.6666666666666666,
              "#ed7953"
             ],
             [
              0.7777777777777778,
              "#fb9f3a"
             ],
             [
              0.8888888888888888,
              "#fdca26"
             ],
             [
              1,
              "#f0f921"
             ]
            ],
            "type": "heatmap"
           }
          ],
          "heatmapgl": [
           {
            "colorbar": {
             "outlinewidth": 0,
             "ticks": ""
            },
            "colorscale": [
             [
              0,
              "#0d0887"
             ],
             [
              0.1111111111111111,
              "#46039f"
             ],
             [
              0.2222222222222222,
              "#7201a8"
             ],
             [
              0.3333333333333333,
              "#9c179e"
             ],
             [
              0.4444444444444444,
              "#bd3786"
             ],
             [
              0.5555555555555556,
              "#d8576b"
             ],
             [
              0.6666666666666666,
              "#ed7953"
             ],
             [
              0.7777777777777778,
              "#fb9f3a"
             ],
             [
              0.8888888888888888,
              "#fdca26"
             ],
             [
              1,
              "#f0f921"
             ]
            ],
            "type": "heatmapgl"
           }
          ],
          "histogram": [
           {
            "marker": {
             "pattern": {
              "fillmode": "overlay",
              "size": 10,
              "solidity": 0.2
             }
            },
            "type": "histogram"
           }
          ],
          "histogram2d": [
           {
            "colorbar": {
             "outlinewidth": 0,
             "ticks": ""
            },
            "colorscale": [
             [
              0,
              "#0d0887"
             ],
             [
              0.1111111111111111,
              "#46039f"
             ],
             [
              0.2222222222222222,
              "#7201a8"
             ],
             [
              0.3333333333333333,
              "#9c179e"
             ],
             [
              0.4444444444444444,
              "#bd3786"
             ],
             [
              0.5555555555555556,
              "#d8576b"
             ],
             [
              0.6666666666666666,
              "#ed7953"
             ],
             [
              0.7777777777777778,
              "#fb9f3a"
             ],
             [
              0.8888888888888888,
              "#fdca26"
             ],
             [
              1,
              "#f0f921"
             ]
            ],
            "type": "histogram2d"
           }
          ],
          "histogram2dcontour": [
           {
            "colorbar": {
             "outlinewidth": 0,
             "ticks": ""
            },
            "colorscale": [
             [
              0,
              "#0d0887"
             ],
             [
              0.1111111111111111,
              "#46039f"
             ],
             [
              0.2222222222222222,
              "#7201a8"
             ],
             [
              0.3333333333333333,
              "#9c179e"
             ],
             [
              0.4444444444444444,
              "#bd3786"
             ],
             [
              0.5555555555555556,
              "#d8576b"
             ],
             [
              0.6666666666666666,
              "#ed7953"
             ],
             [
              0.7777777777777778,
              "#fb9f3a"
             ],
             [
              0.8888888888888888,
              "#fdca26"
             ],
             [
              1,
              "#f0f921"
             ]
            ],
            "type": "histogram2dcontour"
           }
          ],
          "mesh3d": [
           {
            "colorbar": {
             "outlinewidth": 0,
             "ticks": ""
            },
            "type": "mesh3d"
           }
          ],
          "parcoords": [
           {
            "line": {
             "colorbar": {
              "outlinewidth": 0,
              "ticks": ""
             }
            },
            "type": "parcoords"
           }
          ],
          "pie": [
           {
            "automargin": true,
            "type": "pie"
           }
          ],
          "scatter": [
           {
            "fillpattern": {
             "fillmode": "overlay",
             "size": 10,
             "solidity": 0.2
            },
            "type": "scatter"
           }
          ],
          "scatter3d": [
           {
            "line": {
             "colorbar": {
              "outlinewidth": 0,
              "ticks": ""
             }
            },
            "marker": {
             "colorbar": {
              "outlinewidth": 0,
              "ticks": ""
             }
            },
            "type": "scatter3d"
           }
          ],
          "scattercarpet": [
           {
            "marker": {
             "colorbar": {
              "outlinewidth": 0,
              "ticks": ""
             }
            },
            "type": "scattercarpet"
           }
          ],
          "scattergeo": [
           {
            "marker": {
             "colorbar": {
              "outlinewidth": 0,
              "ticks": ""
             }
            },
            "type": "scattergeo"
           }
          ],
          "scattergl": [
           {
            "marker": {
             "colorbar": {
              "outlinewidth": 0,
              "ticks": ""
             }
            },
            "type": "scattergl"
           }
          ],
          "scattermapbox": [
           {
            "marker": {
             "colorbar": {
              "outlinewidth": 0,
              "ticks": ""
             }
            },
            "type": "scattermapbox"
           }
          ],
          "scatterpolar": [
           {
            "marker": {
             "colorbar": {
              "outlinewidth": 0,
              "ticks": ""
             }
            },
            "type": "scatterpolar"
           }
          ],
          "scatterpolargl": [
           {
            "marker": {
             "colorbar": {
              "outlinewidth": 0,
              "ticks": ""
             }
            },
            "type": "scatterpolargl"
           }
          ],
          "scatterternary": [
           {
            "marker": {
             "colorbar": {
              "outlinewidth": 0,
              "ticks": ""
             }
            },
            "type": "scatterternary"
           }
          ],
          "surface": [
           {
            "colorbar": {
             "outlinewidth": 0,
             "ticks": ""
            },
            "colorscale": [
             [
              0,
              "#0d0887"
             ],
             [
              0.1111111111111111,
              "#46039f"
             ],
             [
              0.2222222222222222,
              "#7201a8"
             ],
             [
              0.3333333333333333,
              "#9c179e"
             ],
             [
              0.4444444444444444,
              "#bd3786"
             ],
             [
              0.5555555555555556,
              "#d8576b"
             ],
             [
              0.6666666666666666,
              "#ed7953"
             ],
             [
              0.7777777777777778,
              "#fb9f3a"
             ],
             [
              0.8888888888888888,
              "#fdca26"
             ],
             [
              1,
              "#f0f921"
             ]
            ],
            "type": "surface"
           }
          ],
          "table": [
           {
            "cells": {
             "fill": {
              "color": "#EBF0F8"
             },
             "line": {
              "color": "white"
             }
            },
            "header": {
             "fill": {
              "color": "#C8D4E3"
             },
             "line": {
              "color": "white"
             }
            },
            "type": "table"
           }
          ]
         },
         "layout": {
          "annotationdefaults": {
           "arrowcolor": "#2a3f5f",
           "arrowhead": 0,
           "arrowwidth": 1
          },
          "autotypenumbers": "strict",
          "coloraxis": {
           "colorbar": {
            "outlinewidth": 0,
            "ticks": ""
           }
          },
          "colorscale": {
           "diverging": [
            [
             0,
             "#8e0152"
            ],
            [
             0.1,
             "#c51b7d"
            ],
            [
             0.2,
             "#de77ae"
            ],
            [
             0.3,
             "#f1b6da"
            ],
            [
             0.4,
             "#fde0ef"
            ],
            [
             0.5,
             "#f7f7f7"
            ],
            [
             0.6,
             "#e6f5d0"
            ],
            [
             0.7,
             "#b8e186"
            ],
            [
             0.8,
             "#7fbc41"
            ],
            [
             0.9,
             "#4d9221"
            ],
            [
             1,
             "#276419"
            ]
           ],
           "sequential": [
            [
             0,
             "#0d0887"
            ],
            [
             0.1111111111111111,
             "#46039f"
            ],
            [
             0.2222222222222222,
             "#7201a8"
            ],
            [
             0.3333333333333333,
             "#9c179e"
            ],
            [
             0.4444444444444444,
             "#bd3786"
            ],
            [
             0.5555555555555556,
             "#d8576b"
            ],
            [
             0.6666666666666666,
             "#ed7953"
            ],
            [
             0.7777777777777778,
             "#fb9f3a"
            ],
            [
             0.8888888888888888,
             "#fdca26"
            ],
            [
             1,
             "#f0f921"
            ]
           ],
           "sequentialminus": [
            [
             0,
             "#0d0887"
            ],
            [
             0.1111111111111111,
             "#46039f"
            ],
            [
             0.2222222222222222,
             "#7201a8"
            ],
            [
             0.3333333333333333,
             "#9c179e"
            ],
            [
             0.4444444444444444,
             "#bd3786"
            ],
            [
             0.5555555555555556,
             "#d8576b"
            ],
            [
             0.6666666666666666,
             "#ed7953"
            ],
            [
             0.7777777777777778,
             "#fb9f3a"
            ],
            [
             0.8888888888888888,
             "#fdca26"
            ],
            [
             1,
             "#f0f921"
            ]
           ]
          },
          "colorway": [
           "#636efa",
           "#EF553B",
           "#00cc96",
           "#ab63fa",
           "#FFA15A",
           "#19d3f3",
           "#FF6692",
           "#B6E880",
           "#FF97FF",
           "#FECB52"
          ],
          "font": {
           "color": "#2a3f5f"
          },
          "geo": {
           "bgcolor": "white",
           "lakecolor": "white",
           "landcolor": "#E5ECF6",
           "showlakes": true,
           "showland": true,
           "subunitcolor": "white"
          },
          "hoverlabel": {
           "align": "left"
          },
          "hovermode": "closest",
          "mapbox": {
           "style": "light"
          },
          "paper_bgcolor": "white",
          "plot_bgcolor": "#E5ECF6",
          "polar": {
           "angularaxis": {
            "gridcolor": "white",
            "linecolor": "white",
            "ticks": ""
           },
           "bgcolor": "#E5ECF6",
           "radialaxis": {
            "gridcolor": "white",
            "linecolor": "white",
            "ticks": ""
           }
          },
          "scene": {
           "xaxis": {
            "backgroundcolor": "#E5ECF6",
            "gridcolor": "white",
            "gridwidth": 2,
            "linecolor": "white",
            "showbackground": true,
            "ticks": "",
            "zerolinecolor": "white"
           },
           "yaxis": {
            "backgroundcolor": "#E5ECF6",
            "gridcolor": "white",
            "gridwidth": 2,
            "linecolor": "white",
            "showbackground": true,
            "ticks": "",
            "zerolinecolor": "white"
           },
           "zaxis": {
            "backgroundcolor": "#E5ECF6",
            "gridcolor": "white",
            "gridwidth": 2,
            "linecolor": "white",
            "showbackground": true,
            "ticks": "",
            "zerolinecolor": "white"
           }
          },
          "shapedefaults": {
           "line": {
            "color": "#2a3f5f"
           }
          },
          "ternary": {
           "aaxis": {
            "gridcolor": "white",
            "linecolor": "white",
            "ticks": ""
           },
           "baxis": {
            "gridcolor": "white",
            "linecolor": "white",
            "ticks": ""
           },
           "bgcolor": "#E5ECF6",
           "caxis": {
            "gridcolor": "white",
            "linecolor": "white",
            "ticks": ""
           }
          },
          "title": {
           "x": 0.05
          },
          "xaxis": {
           "automargin": true,
           "gridcolor": "white",
           "linecolor": "white",
           "ticks": "",
           "title": {
            "standoff": 15
           },
           "zerolinecolor": "white",
           "zerolinewidth": 2
          },
          "yaxis": {
           "automargin": true,
           "gridcolor": "white",
           "linecolor": "white",
           "ticks": "",
           "title": {
            "standoff": 15
           },
           "zerolinecolor": "white",
           "zerolinewidth": 2
          }
         }
        },
        "title": {
         "text": "Schedule Statistics"
        },
        "width": 1200,
        "xaxis": {
         "anchor": "y",
         "domain": [
          0,
          0.2888888888888889
         ]
        },
        "xaxis2": {
         "anchor": "y2",
         "domain": [
          0.35555555555555557,
          0.6444444444444445
         ]
        },
        "xaxis3": {
         "anchor": "y3",
         "domain": [
          0.7111111111111111,
          1
         ]
        },
        "yaxis": {
         "anchor": "x",
         "domain": [
          0,
          1
         ]
        },
        "yaxis2": {
         "anchor": "x2",
         "domain": [
          0,
          1
         ]
        },
        "yaxis3": {
         "anchor": "x3",
         "domain": [
          0,
          1
         ]
        }
       }
      }
     },
     "metadata": {},
     "output_type": "display_data"
    },
    {
     "data": {
      "application/vnd.plotly.v1+json": {
       "config": {
        "plotlyServerURL": "https://plot.ly"
       },
       "data": [
        {
         "alignmentgroup": "True",
         "base": [
          "2024-06-27T22:00:00",
          "2024-06-28T23:00:00",
          "2024-06-29T21:00:00",
          "2024-06-30T23:00:00",
          "2024-07-01T23:00:00",
          "2024-07-02T23:00:00",
          "2024-07-03T22:00:00"
         ],
         "customdata": [
          [
           true
          ],
          [
           true
          ],
          [
           true
          ],
          [
           true
          ],
          [
           true
          ],
          [
           true
          ],
          [
           true
          ]
         ],
         "hovertemplate": "Type=Security<br>Start=%{base}<br>End=%{x}<br>Agent=%{y}<br>Is Night=%{customdata[0]}<extra></extra>",
         "legendgroup": "Security",
         "marker": {
          "color": "#636efa",
          "pattern": {
           "shape": ""
          }
         },
         "name": "Security",
         "offsetgroup": "Security",
         "orientation": "h",
         "showlegend": true,
         "textposition": "auto",
         "type": "bar",
         "x": [
          18000000,
          14400000,
          21600000,
          14400000,
          7200000,
          14400000,
          18000000
         ],
         "xaxis": "x",
         "y": [
          "Agent1",
          "Agent2",
          "Agent4",
          "Agent1",
          "Agent2",
          "Agent1",
          "Agent1"
         ],
         "yaxis": "y"
        },
        {
         "alignmentgroup": "True",
         "base": [
          "2024-06-27T09:00:00",
          "2024-06-27T08:00:00",
          "2024-06-27T09:00:00",
          "2024-06-27T11:00:00",
          "2024-06-27T17:00:00",
          "2024-06-27T17:00:00",
          "2024-06-28T08:00:00",
          "2024-06-28T16:00:00",
          "2024-06-28T16:00:00",
          "2024-06-28T13:00:00",
          "2024-06-28T19:00:00",
          "2024-06-28T14:00:00",
          "2024-06-28T13:00:00",
          "2024-06-28T18:00:00",
          "2024-06-28T08:00:00",
          "2024-06-29T15:00:00",
          "2024-06-29T18:00:00",
          "2024-06-29T16:00:00",
          "2024-06-29T10:00:00",
          "2024-06-30T15:00:00",
          "2024-06-30T09:00:00",
          "2024-06-30T14:00:00",
          "2024-07-01T15:00:00",
          "2024-07-01T13:00:00",
          "2024-07-01T14:00:00",
          "2024-07-01T09:00:00",
          "2024-07-01T18:00:00",
          "2024-07-01T13:00:00",
          "2024-07-02T15:00:00",
          "2024-07-02T18:00:00",
          "2024-07-02T12:00:00",
          "2024-07-02T11:00:00",
          "2024-07-02T18:00:00",
          "2024-07-03T11:00:00",
          "2024-07-03T09:00:00",
          "2024-07-03T11:00:00",
          "2024-07-03T14:00:00",
          "2024-07-03T17:00:00",
          "2024-07-03T12:00:00",
          "2024-07-03T08:00:00"
         ],
         "customdata": [
          [
           false
          ],
          [
           false
          ],
          [
           false
          ],
          [
           false
          ],
          [
           false
          ],
          [
           false
          ],
          [
           false
          ],
          [
           false
          ],
          [
           false
          ],
          [
           false
          ],
          [
           false
          ],
          [
           false
          ],
          [
           false
          ],
          [
           false
          ],
          [
           false
          ],
          [
           false
          ],
          [
           false
          ],
          [
           false
          ],
          [
           false
          ],
          [
           false
          ],
          [
           false
          ],
          [
           false
          ],
          [
           false
          ],
          [
           false
          ],
          [
           false
          ],
          [
           false
          ],
          [
           false
          ],
          [
           false
          ],
          [
           false
          ],
          [
           false
          ],
          [
           false
          ],
          [
           false
          ],
          [
           false
          ],
          [
           false
          ],
          [
           false
          ],
          [
           false
          ],
          [
           false
          ],
          [
           false
          ],
          [
           false
          ],
          [
           false
          ]
         ],
         "hovertemplate": "Type=Monitoring<br>Start=%{base}<br>End=%{x}<br>Agent=%{y}<br>Is Night=%{customdata[0]}<extra></extra>",
         "legendgroup": "Monitoring",
         "marker": {
          "color": "#EF553B",
          "pattern": {
           "shape": ""
          }
         },
         "name": "Monitoring",
         "offsetgroup": "Monitoring",
         "orientation": "h",
         "showlegend": true,
         "textposition": "auto",
         "type": "bar",
         "x": [
          7200000,
          7200000,
          7200000,
          7200000,
          10800000,
          3600000,
          10800000,
          7200000,
          10800000,
          7200000,
          3600000,
          7200000,
          3600000,
          7200000,
          10800000,
          7200000,
          7200000,
          10800000,
          3600000,
          3600000,
          10800000,
          7200000,
          7200000,
          3600000,
          3600000,
          10800000,
          3600000,
          3600000,
          3600000,
          7200000,
          10800000,
          10800000,
          10800000,
          3600000,
          10800000,
          3600000,
          10800000,
          10800000,
          7200000,
          10800000
         ],
         "xaxis": "x",
         "y": [
          "Agent5",
          "Agent4",
          "Agent1",
          "Agent4",
          "Agent5",
          "Agent4",
          "Agent5",
          "Agent4",
          "Agent5",
          "Agent1",
          "Agent2",
          "Agent5",
          "Agent1",
          "Agent4",
          "Agent4",
          "Agent4",
          "Agent3",
          "Agent5",
          "Agent4",
          "Agent4",
          "Agent5",
          "Agent4",
          "Agent5",
          "Agent2",
          "Agent4",
          "Agent4",
          "Agent4",
          "Agent5",
          "Agent4",
          "Agent3",
          "Agent5",
          "Agent4",
          "Agent5",
          "Agent3",
          "Agent4",
          "Agent1",
          "Agent1",
          "Agent5",
          "Agent5",
          "Agent5"
         ],
         "yaxis": "y"
        },
        {
         "alignmentgroup": "True",
         "base": [
          "2024-06-27T09:00:00",
          "2024-06-27T16:00:00",
          "2024-06-27T08:00:00",
          "2024-06-27T10:00:00",
          "2024-06-27T11:00:00",
          "2024-06-28T12:00:00",
          "2024-06-28T08:00:00",
          "2024-06-28T17:00:00",
          "2024-06-29T11:00:00",
          "2024-06-29T16:00:00",
          "2024-06-29T09:00:00",
          "2024-06-29T11:00:00",
          "2024-06-29T15:00:00",
          "2024-06-29T10:00:00",
          "2024-06-30T14:00:00",
          "2024-06-30T11:00:00",
          "2024-06-30T17:00:00",
          "2024-06-30T15:00:00",
          "2024-07-01T10:00:00",
          "2024-07-01T16:00:00",
          "2024-07-01T11:00:00",
          "2024-07-02T19:00:00",
          "2024-07-02T10:00:00",
          "2024-07-02T18:00:00",
          "2024-07-02T18:00:00",
          "2024-07-02T18:00:00",
          "2024-07-03T19:00:00",
          "2024-07-03T09:00:00",
          "2024-07-03T09:00:00"
         ],
         "customdata": [
          [
           false
          ],
          [
           false
          ],
          [
           false
          ],
          [
           false
          ],
          [
           false
          ],
          [
           false
          ],
          [
           false
          ],
          [
           false
          ],
          [
           false
          ],
          [
           false
          ],
          [
           false
          ],
          [
           false
          ],
          [
           false
          ],
          [
           false
          ],
          [
           false
          ],
          [
           false
          ],
          [
           false
          ],
          [
           false
          ],
          [
           false
          ],
          [
           false
          ],
          [
           false
          ],
          [
           false
          ],
          [
           false
          ],
          [
           false
          ],
          [
           false
          ],
          [
           false
          ],
          [
           false
          ],
          [
           false
          ],
          [
           false
          ]
         ],
         "hovertemplate": "Type=Maintenance<br>Start=%{base}<br>End=%{x}<br>Agent=%{y}<br>Is Night=%{customdata[0]}<extra></extra>",
         "legendgroup": "Maintenance",
         "marker": {
          "color": "#00cc96",
          "pattern": {
           "shape": ""
          }
         },
         "name": "Maintenance",
         "offsetgroup": "Maintenance",
         "orientation": "h",
         "showlegend": true,
         "textposition": "auto",
         "type": "bar",
         "x": [
          3600000,
          7200000,
          3600000,
          7200000,
          7200000,
          10800000,
          7200000,
          3600000,
          7200000,
          7200000,
          3600000,
          7200000,
          7200000,
          3600000,
          3600000,
          3600000,
          3600000,
          3600000,
          10800000,
          7200000,
          3600000,
          10800000,
          7200000,
          10800000,
          3600000,
          3600000,
          10800000,
          3600000,
          10800000
         ],
         "xaxis": "x",
         "y": [
          "Agent2",
          "Agent2",
          "Agent2",
          "Agent2",
          "Agent2",
          "Agent2",
          "Agent2",
          "Agent2",
          "Agent2",
          "Agent2",
          "Agent2",
          "Agent2",
          "Agent2",
          "Agent2",
          "Agent2",
          "Agent2",
          "Agent2",
          "Agent2",
          "Agent2",
          "Agent2",
          "Agent2",
          "Agent2",
          "Agent2",
          "Agent2",
          "Agent2",
          "Agent2",
          "Agent2",
          "Agent2",
          "Agent2"
         ],
         "yaxis": "y"
        },
        {
         "alignmentgroup": "True",
         "base": [
          "2024-06-27T14:00:00",
          "2024-06-27T09:00:00",
          "2024-06-27T17:00:00",
          "2024-06-27T18:00:00",
          "2024-06-28T17:00:00",
          "2024-06-28T14:00:00",
          "2024-06-28T10:00:00",
          "2024-06-29T19:00:00",
          "2024-06-29T14:00:00",
          "2024-06-29T14:00:00",
          "2024-06-29T10:00:00",
          "2024-06-29T13:00:00",
          "2024-06-30T11:00:00",
          "2024-06-30T09:00:00",
          "2024-06-30T18:00:00",
          "2024-06-30T10:00:00",
          "2024-06-30T10:00:00",
          "2024-06-30T11:00:00",
          "2024-06-30T14:00:00",
          "2024-06-30T11:00:00",
          "2024-07-01T08:00:00",
          "2024-07-01T09:00:00",
          "2024-07-01T14:00:00",
          "2024-07-01T13:00:00",
          "2024-07-01T14:00:00",
          "2024-07-01T17:00:00",
          "2024-07-02T15:00:00",
          "2024-07-02T12:00:00",
          "2024-07-02T17:00:00",
          "2024-07-02T19:00:00",
          "2024-07-02T14:00:00",
          "2024-07-03T08:00:00",
          "2024-07-03T16:00:00",
          "2024-07-03T18:00:00",
          "2024-07-03T18:00:00",
          "2024-07-03T13:00:00"
         ],
         "customdata": [
          [
           false
          ],
          [
           false
          ],
          [
           false
          ],
          [
           false
          ],
          [
           false
          ],
          [
           false
          ],
          [
           false
          ],
          [
           false
          ],
          [
           false
          ],
          [
           false
          ],
          [
           false
          ],
          [
           false
          ],
          [
           false
          ],
          [
           false
          ],
          [
           false
          ],
          [
           false
          ],
          [
           false
          ],
          [
           false
          ],
          [
           false
          ],
          [
           false
          ],
          [
           false
          ],
          [
           false
          ],
          [
           false
          ],
          [
           false
          ],
          [
           false
          ],
          [
           false
          ],
          [
           false
          ],
          [
           false
          ],
          [
           false
          ],
          [
           false
          ],
          [
           false
          ],
          [
           false
          ],
          [
           false
          ],
          [
           false
          ],
          [
           false
          ],
          [
           false
          ]
         ],
         "hovertemplate": "Type=Fire<br>Start=%{base}<br>End=%{x}<br>Agent=%{y}<br>Is Night=%{customdata[0]}<extra></extra>",
         "legendgroup": "Fire",
         "marker": {
          "color": "#ab63fa",
          "pattern": {
           "shape": ""
          }
         },
         "name": "Fire",
         "offsetgroup": "Fire",
         "orientation": "h",
         "showlegend": true,
         "textposition": "auto",
         "type": "bar",
         "x": [
          3600000,
          7200000,
          7200000,
          10800000,
          3600000,
          3600000,
          10800000,
          7200000,
          3600000,
          10800000,
          3600000,
          7200000,
          7200000,
          3600000,
          10800000,
          10800000,
          7200000,
          7200000,
          10800000,
          3600000,
          3600000,
          3600000,
          7200000,
          10800000,
          3600000,
          10800000,
          3600000,
          3600000,
          3600000,
          7200000,
          3600000,
          3600000,
          10800000,
          3600000,
          10800000,
          10800000
         ],
         "xaxis": "x",
         "y": [
          "Agent3",
          "Agent3",
          "Agent1",
          "Agent3",
          "Agent3",
          "Agent3",
          "Agent3",
          "Agent1",
          "Agent3",
          "Agent1",
          "Agent3",
          "Agent1",
          "Agent1",
          "Agent1",
          "Agent3",
          "Agent3",
          "Agent1",
          "Agent1",
          "Agent3",
          "Agent3",
          "Agent3",
          "Agent1",
          "Agent3",
          "Agent1",
          "Agent3",
          "Agent3",
          "Agent1",
          "Agent3",
          "Agent1",
          "Agent1",
          "Agent3",
          "Agent1",
          "Agent1",
          "Agent3",
          "Agent3",
          "Agent3"
         ],
         "yaxis": "y"
        }
       ],
       "layout": {
        "barmode": "overlay",
        "legend": {
         "title": {
          "text": "Type"
         },
         "tracegroupgap": 0
        },
        "shapes": [
         {
          "line": {
           "color": "gray",
           "dash": "dash"
          },
          "type": "line",
          "x0": "2024-06-27T05:00:00",
          "x1": "2024-06-27T05:00:00",
          "xref": "x",
          "y0": 0,
          "y1": 1,
          "yref": "y domain"
         },
         {
          "line": {
           "color": "gray",
           "dash": "dash"
          },
          "type": "line",
          "x0": "2024-06-28T05:00:00",
          "x1": "2024-06-28T05:00:00",
          "xref": "x",
          "y0": 0,
          "y1": 1,
          "yref": "y domain"
         },
         {
          "line": {
           "color": "gray",
           "dash": "dash"
          },
          "type": "line",
          "x0": "2024-06-29T05:00:00",
          "x1": "2024-06-29T05:00:00",
          "xref": "x",
          "y0": 0,
          "y1": 1,
          "yref": "y domain"
         },
         {
          "line": {
           "color": "gray",
           "dash": "dash"
          },
          "type": "line",
          "x0": "2024-06-30T05:00:00",
          "x1": "2024-06-30T05:00:00",
          "xref": "x",
          "y0": 0,
          "y1": 1,
          "yref": "y domain"
         },
         {
          "line": {
           "color": "gray",
           "dash": "dash"
          },
          "type": "line",
          "x0": "2024-07-01T05:00:00",
          "x1": "2024-07-01T05:00:00",
          "xref": "x",
          "y0": 0,
          "y1": 1,
          "yref": "y domain"
         },
         {
          "line": {
           "color": "gray",
           "dash": "dash"
          },
          "type": "line",
          "x0": "2024-07-02T05:00:00",
          "x1": "2024-07-02T05:00:00",
          "xref": "x",
          "y0": 0,
          "y1": 1,
          "yref": "y domain"
         },
         {
          "line": {
           "color": "gray",
           "dash": "dash"
          },
          "type": "line",
          "x0": "2024-07-03T05:00:00",
          "x1": "2024-07-03T05:00:00",
          "xref": "x",
          "y0": 0,
          "y1": 1,
          "yref": "y domain"
         }
        ],
        "template": {
         "data": {
          "bar": [
           {
            "error_x": {
             "color": "#2a3f5f"
            },
            "error_y": {
             "color": "#2a3f5f"
            },
            "marker": {
             "line": {
              "color": "#E5ECF6",
              "width": 0.5
             },
             "pattern": {
              "fillmode": "overlay",
              "size": 10,
              "solidity": 0.2
             }
            },
            "type": "bar"
           }
          ],
          "barpolar": [
           {
            "marker": {
             "line": {
              "color": "#E5ECF6",
              "width": 0.5
             },
             "pattern": {
              "fillmode": "overlay",
              "size": 10,
              "solidity": 0.2
             }
            },
            "type": "barpolar"
           }
          ],
          "carpet": [
           {
            "aaxis": {
             "endlinecolor": "#2a3f5f",
             "gridcolor": "white",
             "linecolor": "white",
             "minorgridcolor": "white",
             "startlinecolor": "#2a3f5f"
            },
            "baxis": {
             "endlinecolor": "#2a3f5f",
             "gridcolor": "white",
             "linecolor": "white",
             "minorgridcolor": "white",
             "startlinecolor": "#2a3f5f"
            },
            "type": "carpet"
           }
          ],
          "choropleth": [
           {
            "colorbar": {
             "outlinewidth": 0,
             "ticks": ""
            },
            "type": "choropleth"
           }
          ],
          "contour": [
           {
            "colorbar": {
             "outlinewidth": 0,
             "ticks": ""
            },
            "colorscale": [
             [
              0,
              "#0d0887"
             ],
             [
              0.1111111111111111,
              "#46039f"
             ],
             [
              0.2222222222222222,
              "#7201a8"
             ],
             [
              0.3333333333333333,
              "#9c179e"
             ],
             [
              0.4444444444444444,
              "#bd3786"
             ],
             [
              0.5555555555555556,
              "#d8576b"
             ],
             [
              0.6666666666666666,
              "#ed7953"
             ],
             [
              0.7777777777777778,
              "#fb9f3a"
             ],
             [
              0.8888888888888888,
              "#fdca26"
             ],
             [
              1,
              "#f0f921"
             ]
            ],
            "type": "contour"
           }
          ],
          "contourcarpet": [
           {
            "colorbar": {
             "outlinewidth": 0,
             "ticks": ""
            },
            "type": "contourcarpet"
           }
          ],
          "heatmap": [
           {
            "colorbar": {
             "outlinewidth": 0,
             "ticks": ""
            },
            "colorscale": [
             [
              0,
              "#0d0887"
             ],
             [
              0.1111111111111111,
              "#46039f"
             ],
             [
              0.2222222222222222,
              "#7201a8"
             ],
             [
              0.3333333333333333,
              "#9c179e"
             ],
             [
              0.4444444444444444,
              "#bd3786"
             ],
             [
              0.5555555555555556,
              "#d8576b"
             ],
             [
              0.6666666666666666,
              "#ed7953"
             ],
             [
              0.7777777777777778,
              "#fb9f3a"
             ],
             [
              0.8888888888888888,
              "#fdca26"
             ],
             [
              1,
              "#f0f921"
             ]
            ],
            "type": "heatmap"
           }
          ],
          "heatmapgl": [
           {
            "colorbar": {
             "outlinewidth": 0,
             "ticks": ""
            },
            "colorscale": [
             [
              0,
              "#0d0887"
             ],
             [
              0.1111111111111111,
              "#46039f"
             ],
             [
              0.2222222222222222,
              "#7201a8"
             ],
             [
              0.3333333333333333,
              "#9c179e"
             ],
             [
              0.4444444444444444,
              "#bd3786"
             ],
             [
              0.5555555555555556,
              "#d8576b"
             ],
             [
              0.6666666666666666,
              "#ed7953"
             ],
             [
              0.7777777777777778,
              "#fb9f3a"
             ],
             [
              0.8888888888888888,
              "#fdca26"
             ],
             [
              1,
              "#f0f921"
             ]
            ],
            "type": "heatmapgl"
           }
          ],
          "histogram": [
           {
            "marker": {
             "pattern": {
              "fillmode": "overlay",
              "size": 10,
              "solidity": 0.2
             }
            },
            "type": "histogram"
           }
          ],
          "histogram2d": [
           {
            "colorbar": {
             "outlinewidth": 0,
             "ticks": ""
            },
            "colorscale": [
             [
              0,
              "#0d0887"
             ],
             [
              0.1111111111111111,
              "#46039f"
             ],
             [
              0.2222222222222222,
              "#7201a8"
             ],
             [
              0.3333333333333333,
              "#9c179e"
             ],
             [
              0.4444444444444444,
              "#bd3786"
             ],
             [
              0.5555555555555556,
              "#d8576b"
             ],
             [
              0.6666666666666666,
              "#ed7953"
             ],
             [
              0.7777777777777778,
              "#fb9f3a"
             ],
             [
              0.8888888888888888,
              "#fdca26"
             ],
             [
              1,
              "#f0f921"
             ]
            ],
            "type": "histogram2d"
           }
          ],
          "histogram2dcontour": [
           {
            "colorbar": {
             "outlinewidth": 0,
             "ticks": ""
            },
            "colorscale": [
             [
              0,
              "#0d0887"
             ],
             [
              0.1111111111111111,
              "#46039f"
             ],
             [
              0.2222222222222222,
              "#7201a8"
             ],
             [
              0.3333333333333333,
              "#9c179e"
             ],
             [
              0.4444444444444444,
              "#bd3786"
             ],
             [
              0.5555555555555556,
              "#d8576b"
             ],
             [
              0.6666666666666666,
              "#ed7953"
             ],
             [
              0.7777777777777778,
              "#fb9f3a"
             ],
             [
              0.8888888888888888,
              "#fdca26"
             ],
             [
              1,
              "#f0f921"
             ]
            ],
            "type": "histogram2dcontour"
           }
          ],
          "mesh3d": [
           {
            "colorbar": {
             "outlinewidth": 0,
             "ticks": ""
            },
            "type": "mesh3d"
           }
          ],
          "parcoords": [
           {
            "line": {
             "colorbar": {
              "outlinewidth": 0,
              "ticks": ""
             }
            },
            "type": "parcoords"
           }
          ],
          "pie": [
           {
            "automargin": true,
            "type": "pie"
           }
          ],
          "scatter": [
           {
            "fillpattern": {
             "fillmode": "overlay",
             "size": 10,
             "solidity": 0.2
            },
            "type": "scatter"
           }
          ],
          "scatter3d": [
           {
            "line": {
             "colorbar": {
              "outlinewidth": 0,
              "ticks": ""
             }
            },
            "marker": {
             "colorbar": {
              "outlinewidth": 0,
              "ticks": ""
             }
            },
            "type": "scatter3d"
           }
          ],
          "scattercarpet": [
           {
            "marker": {
             "colorbar": {
              "outlinewidth": 0,
              "ticks": ""
             }
            },
            "type": "scattercarpet"
           }
          ],
          "scattergeo": [
           {
            "marker": {
             "colorbar": {
              "outlinewidth": 0,
              "ticks": ""
             }
            },
            "type": "scattergeo"
           }
          ],
          "scattergl": [
           {
            "marker": {
             "colorbar": {
              "outlinewidth": 0,
              "ticks": ""
             }
            },
            "type": "scattergl"
           }
          ],
          "scattermapbox": [
           {
            "marker": {
             "colorbar": {
              "outlinewidth": 0,
              "ticks": ""
             }
            },
            "type": "scattermapbox"
           }
          ],
          "scatterpolar": [
           {
            "marker": {
             "colorbar": {
              "outlinewidth": 0,
              "ticks": ""
             }
            },
            "type": "scatterpolar"
           }
          ],
          "scatterpolargl": [
           {
            "marker": {
             "colorbar": {
              "outlinewidth": 0,
              "ticks": ""
             }
            },
            "type": "scatterpolargl"
           }
          ],
          "scatterternary": [
           {
            "marker": {
             "colorbar": {
              "outlinewidth": 0,
              "ticks": ""
             }
            },
            "type": "scatterternary"
           }
          ],
          "surface": [
           {
            "colorbar": {
             "outlinewidth": 0,
             "ticks": ""
            },
            "colorscale": [
             [
              0,
              "#0d0887"
             ],
             [
              0.1111111111111111,
              "#46039f"
             ],
             [
              0.2222222222222222,
              "#7201a8"
             ],
             [
              0.3333333333333333,
              "#9c179e"
             ],
             [
              0.4444444444444444,
              "#bd3786"
             ],
             [
              0.5555555555555556,
              "#d8576b"
             ],
             [
              0.6666666666666666,
              "#ed7953"
             ],
             [
              0.7777777777777778,
              "#fb9f3a"
             ],
             [
              0.8888888888888888,
              "#fdca26"
             ],
             [
              1,
              "#f0f921"
             ]
            ],
            "type": "surface"
           }
          ],
          "table": [
           {
            "cells": {
             "fill": {
              "color": "#EBF0F8"
             },
             "line": {
              "color": "white"
             }
            },
            "header": {
             "fill": {
              "color": "#C8D4E3"
             },
             "line": {
              "color": "white"
             }
            },
            "type": "table"
           }
          ]
         },
         "layout": {
          "annotationdefaults": {
           "arrowcolor": "#2a3f5f",
           "arrowhead": 0,
           "arrowwidth": 1
          },
          "autotypenumbers": "strict",
          "coloraxis": {
           "colorbar": {
            "outlinewidth": 0,
            "ticks": ""
           }
          },
          "colorscale": {
           "diverging": [
            [
             0,
             "#8e0152"
            ],
            [
             0.1,
             "#c51b7d"
            ],
            [
             0.2,
             "#de77ae"
            ],
            [
             0.3,
             "#f1b6da"
            ],
            [
             0.4,
             "#fde0ef"
            ],
            [
             0.5,
             "#f7f7f7"
            ],
            [
             0.6,
             "#e6f5d0"
            ],
            [
             0.7,
             "#b8e186"
            ],
            [
             0.8,
             "#7fbc41"
            ],
            [
             0.9,
             "#4d9221"
            ],
            [
             1,
             "#276419"
            ]
           ],
           "sequential": [
            [
             0,
             "#0d0887"
            ],
            [
             0.1111111111111111,
             "#46039f"
            ],
            [
             0.2222222222222222,
             "#7201a8"
            ],
            [
             0.3333333333333333,
             "#9c179e"
            ],
            [
             0.4444444444444444,
             "#bd3786"
            ],
            [
             0.5555555555555556,
             "#d8576b"
            ],
            [
             0.6666666666666666,
             "#ed7953"
            ],
            [
             0.7777777777777778,
             "#fb9f3a"
            ],
            [
             0.8888888888888888,
             "#fdca26"
            ],
            [
             1,
             "#f0f921"
            ]
           ],
           "sequentialminus": [
            [
             0,
             "#0d0887"
            ],
            [
             0.1111111111111111,
             "#46039f"
            ],
            [
             0.2222222222222222,
             "#7201a8"
            ],
            [
             0.3333333333333333,
             "#9c179e"
            ],
            [
             0.4444444444444444,
             "#bd3786"
            ],
            [
             0.5555555555555556,
             "#d8576b"
            ],
            [
             0.6666666666666666,
             "#ed7953"
            ],
            [
             0.7777777777777778,
             "#fb9f3a"
            ],
            [
             0.8888888888888888,
             "#fdca26"
            ],
            [
             1,
             "#f0f921"
            ]
           ]
          },
          "colorway": [
           "#636efa",
           "#EF553B",
           "#00cc96",
           "#ab63fa",
           "#FFA15A",
           "#19d3f3",
           "#FF6692",
           "#B6E880",
           "#FF97FF",
           "#FECB52"
          ],
          "font": {
           "color": "#2a3f5f"
          },
          "geo": {
           "bgcolor": "white",
           "lakecolor": "white",
           "landcolor": "#E5ECF6",
           "showlakes": true,
           "showland": true,
           "subunitcolor": "white"
          },
          "hoverlabel": {
           "align": "left"
          },
          "hovermode": "closest",
          "mapbox": {
           "style": "light"
          },
          "paper_bgcolor": "white",
          "plot_bgcolor": "#E5ECF6",
          "polar": {
           "angularaxis": {
            "gridcolor": "white",
            "linecolor": "white",
            "ticks": ""
           },
           "bgcolor": "#E5ECF6",
           "radialaxis": {
            "gridcolor": "white",
            "linecolor": "white",
            "ticks": ""
           }
          },
          "scene": {
           "xaxis": {
            "backgroundcolor": "#E5ECF6",
            "gridcolor": "white",
            "gridwidth": 2,
            "linecolor": "white",
            "showbackground": true,
            "ticks": "",
            "zerolinecolor": "white"
           },
           "yaxis": {
            "backgroundcolor": "#E5ECF6",
            "gridcolor": "white",
            "gridwidth": 2,
            "linecolor": "white",
            "showbackground": true,
            "ticks": "",
            "zerolinecolor": "white"
           },
           "zaxis": {
            "backgroundcolor": "#E5ECF6",
            "gridcolor": "white",
            "gridwidth": 2,
            "linecolor": "white",
            "showbackground": true,
            "ticks": "",
            "zerolinecolor": "white"
           }
          },
          "shapedefaults": {
           "line": {
            "color": "#2a3f5f"
           }
          },
          "ternary": {
           "aaxis": {
            "gridcolor": "white",
            "linecolor": "white",
            "ticks": ""
           },
           "baxis": {
            "gridcolor": "white",
            "linecolor": "white",
            "ticks": ""
           },
           "bgcolor": "#E5ECF6",
           "caxis": {
            "gridcolor": "white",
            "linecolor": "white",
            "ticks": ""
           }
          },
          "title": {
           "x": 0.05
          },
          "xaxis": {
           "automargin": true,
           "gridcolor": "white",
           "linecolor": "white",
           "ticks": "",
           "title": {
            "standoff": 15
           },
           "zerolinecolor": "white",
           "zerolinewidth": 2
          },
          "yaxis": {
           "automargin": true,
           "gridcolor": "white",
           "linecolor": "white",
           "ticks": "",
           "title": {
            "standoff": 15
           },
           "zerolinecolor": "white",
           "zerolinewidth": 2
          }
         }
        },
        "title": {
         "text": "Security Company Schedule"
        },
        "xaxis": {
         "anchor": "y",
         "domain": [
          0,
          1
         ],
         "gridcolor": "lightgray",
         "rangeslider": {
          "visible": false
         },
         "showgrid": true,
         "tickangle": 0,
         "tickfont": {
          "size": 10
         },
         "tickformat": "%Y-%m-%d",
         "type": "date"
        },
        "xaxis2": {
         "overlaying": "x",
         "showgrid": false,
         "side": "top",
         "tickformat": "%H:%M"
        },
        "yaxis": {
         "anchor": "x",
         "categoryorder": "category ascending",
         "domain": [
          0,
          1
         ],
         "title": {
          "text": "Agent"
         }
        }
       }
      }
     },
     "metadata": {},
     "output_type": "display_data"
    },
    {
     "data": {
      "text/plain": [
       "<function __main__.visualize_results()>"
      ]
     },
     "execution_count": 5,
     "metadata": {},
     "output_type": "execute_result"
    }
   ],
   "source": [
    "def visualize_results():\n",
    "    global schedule_df\n",
    "    if 'schedule_df' not in globals() or schedule_df is None:\n",
    "        print(\"Please run the scheduling algorithm first to generate a schedule.\")\n",
    "        return\n",
    "    \n",
    "    fig = plot_schedule(schedule_df)\n",
    "    fig.show()\n",
    "\n",
    "    stats_fig = plot_schedule_statistics(schedule_df)\n",
    "    stats_fig.show()\n",
    "\n",
    "interact_manual(visualize_results)"
   ]
  },
  {
   "cell_type": "markdown",
   "id": "92dee7b9",
   "metadata": {},
   "source": [
    "## Analyze the Schedule"
   ]
  },
  {
   "cell_type": "code",
   "execution_count": 6,
   "id": "c8ef8c07",
   "metadata": {},
   "outputs": [
    {
     "data": {
      "application/vnd.jupyter.widget-view+json": {
       "model_id": "e4451b0df16d4fcdb7a62e4342cc3645",
       "version_major": 2,
       "version_minor": 0
      },
      "text/plain": [
       "interactive(children=(Button(description='Run Interact', style=ButtonStyle()), Output()), _dom_classes=('widge…"
      ]
     },
     "metadata": {},
     "output_type": "display_data"
    },
    {
     "data": {
      "text/plain": [
       "<function __main__.analyze_results()>"
      ]
     },
     "execution_count": 6,
     "metadata": {},
     "output_type": "execute_result"
    }
   ],
   "source": [
    "def analyze_results():\n",
    "    global schedule_df\n",
    "    if 'schedule_df' not in globals() or schedule_df is None:\n",
    "        print(\"Please run the scheduling algorithm first to generate a schedule.\")\n",
    "        return\n",
    "    \n",
    "    analyze_schedule(schedule_df)\n",
    "\n",
    "interact_manual(analyze_results)"
   ]
  }
 ],
 "metadata": {
  "language_info": {
   "name": "python"
  }
 },
 "nbformat": 4,
 "nbformat_minor": 5
}
